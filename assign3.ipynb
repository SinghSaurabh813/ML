{
 "cells": [
  {
   "cell_type": "code",
   "execution_count": 1,
   "metadata": {},
   "outputs": [
    {
     "name": "stdout",
     "output_type": "stream",
     "text": [
      "How many numbers in List:5\n",
      "Enter a number:1\n",
      "Enter a number:2\n",
      "Enter a number:3\n",
      "Enter a number:4\n",
      "Enter a number:5\n",
      "15\n"
     ]
    }
   ],
   "source": [
    "def Sum(x,y):\n",
    "    return x+y\n",
    "def myreduce(Sum,mylist):\n",
    "    a = mylist[0]\n",
    "    for b in mylist[1:]:\n",
    "        a = Sum(a,b)\n",
    "    return a    \n",
    "        \n",
    "n = int(input(\"How many numbers in List:\"))\n",
    "mylist = []\n",
    "while n > 0:\n",
    "    x = int(input(\"Enter a number:\"))\n",
    "    mylist.append(x)\n",
    "    n-=1\n",
    "print(myreduce(Sum,mylist))    "
   ]
  },
  {
   "cell_type": "code",
   "execution_count": 3,
   "metadata": {},
   "outputs": [
    {
     "name": "stdout",
     "output_type": "stream",
     "text": [
      "How many numbers in List:3\n",
      "Enter a number:1\n",
      "Enter a number:2\n",
      "Enter a number:3\n",
      "[1, 2, 3]\n"
     ]
    }
   ],
   "source": [
    "def positive(x):\n",
    "    if x > 0:\n",
    "        return True\n",
    "    else:\n",
    "        return False\n",
    "\n",
    "def myfilter(Postive,mylist):\n",
    "    newlist = []\n",
    "    for x in mylist:\n",
    "        if positive(x):\n",
    "            newlist.append(x)\n",
    "    return newlist        \n",
    "    \n",
    "n = int(input(\"How many numbers in List:\"))\n",
    "mylist = []\n",
    "while n > 0:\n",
    "    x = int(input(\"Enter a number:\"))\n",
    "    mylist.append(x)\n",
    "    n-=1\n",
    "print(myfilter(positive,mylist))"
   ]
  },
  {
   "cell_type": "code",
   "execution_count": 4,
   "metadata": {},
   "outputs": [
    {
     "name": "stdout",
     "output_type": "stream",
     "text": [
      "\n",
      "For 1st Case :\n",
      "\n",
      "\n",
      "Number of Element in the list :3\n",
      "Enter list element of any type 'like 1,2,x,y..':x\n",
      "Enter list element of any type 'like 1,2,x,y..':y\n",
      "Enter list element of any type 'like 1,2,x,y..':z\n",
      "['x', 'xx', 'xxx', 'xxxx', 'y', 'yy', 'yyy', 'yyyy', 'z', 'zz', 'zzz', 'zzzz']\n",
      "\n",
      "For 2nd Case:\n",
      "\n",
      "['x', 'y', 'z', 'xx', 'yy', 'zz', 'xxx', 'yyy', 'zzz', 'xxxx', 'yyyy', 'zzzz']\n",
      "For 3rd Case :\n",
      "Number elments in a list :3\n",
      "Enter list element of int type '1,2,3...':2\n",
      "Enter list element of int type '1,2,3...':3\n",
      "Enter list element of int type '1,2,3...':4\n",
      "[[2], [3], [4], [3], [4], [5], [4], [5], [6]]\n",
      "\n",
      "For 4th case:\n",
      "\n",
      "Number of elments in a list :4\n",
      "Enter list element of int type '1,2,3...':2\n",
      "Enter list element of int type '1,2,3...':3\n",
      "Enter list element of int type '1,2,3...':4\n",
      "Enter list element of int type '1,2,3...':5\n",
      "[[2, 3, 4, 5], [3, 4, 5, 6], [4, 5, 6, 7], [5, 6, 7, 8]]\n",
      "\n",
      "For 5th Case:\n",
      "\n",
      "Enter how many elments in a list 6:3\n",
      "Enter list element :1\n",
      "Enter list element :2\n",
      "Enter list element :3\n",
      "[(1, 1), (2, 1), (3, 1), (1, 2), (2, 2), (3, 2), (1, 3), (2, 3), (3, 3)]\n"
     ]
    }
   ],
   "source": [
    "print(\"\\nFor 1st Case :\\n\")\n",
    "n = int(input(\"\\nNumber of Element in the list :\"))\n",
    "mylist1 = []\n",
    "while n > 0 :\n",
    "    x = input(\"Enter list element of any type 'like 1,2,x,y..':\")\n",
    "    mylist1.append(x)\n",
    "    n-=1\n",
    "mylist2 = []    \n",
    "for a in mylist1 : \n",
    "    for b in range(1,5):\n",
    "        mylist2.append(a*b)\n",
    "print(mylist2)        \n",
    "\n",
    "print(\"\\nFor 2nd Case:\\n\")\n",
    "mylist3 = [] \n",
    "for b in range(1,5) : \n",
    "    for a in mylist1:\n",
    "        mylist3.append(a*b)\n",
    "print(mylist3) \n",
    "\n",
    "print(\"For 3rd Case :\")\n",
    "n = int(input(\"Number elments in a list :\"))\n",
    "mylist4 = []\n",
    "while n > 0 :\n",
    "    x = int(input(\"Enter list element of int type '1,2,3...':\"))\n",
    "    mylist4.append(x)\n",
    "    n-=1\n",
    "mylist5 = []    \n",
    "for i in mylist4:\n",
    "    for  j in range(0,3) :\n",
    "        k = [i+j]\n",
    "        mylist5.append(k)\n",
    "print(mylist5)        \n",
    "\n",
    "print(\"\\nFor 4th case:\\n\")\n",
    "mylist6 = []\n",
    "n = int(input(\"Number of elments in a list :\"))\n",
    "mylist4 = []\n",
    "while n > 0 :\n",
    "    x = int(input(\"Enter list element of int type '1,2,3...':\"))\n",
    "    mylist4.append(x)\n",
    "    n-=1\n",
    "for i in mylist4:\n",
    "    k =[]\n",
    "    for  j in range(0,4):\n",
    "        k.append(i+j)\n",
    "    mylist6.append(k)\n",
    "print(mylist6)   \n",
    "\n",
    "print(\"\\nFor 5th Case:\\n\")\n",
    "n = int(input(\"Enter how many elments in a list 6:\"))\n",
    "mylist7 = []\n",
    "while n > 0 :\n",
    "    x = int(input(\"Enter list element :\"))\n",
    "    mylist7.append(x)\n",
    "    n-=1\n",
    "mylist8 = []    \n",
    "for i in mylist7:\n",
    "    for  j in mylist7 :\n",
    "        tup =(j,i)\n",
    "        mylist8.append(tup)\n",
    "print(mylist8,sep=\",\")  "
   ]
  },
  {
   "cell_type": "code",
   "execution_count": null,
   "metadata": {},
   "outputs": [],
   "source": []
  },
  {
   "cell_type": "code",
   "execution_count": null,
   "metadata": {},
   "outputs": [],
   "source": []
  }
 ],
 "metadata": {
  "kernelspec": {
   "display_name": "Python 3",
   "language": "python",
   "name": "python3"
  },
  "language_info": {
   "codemirror_mode": {
    "name": "ipython",
    "version": 3
   },
   "file_extension": ".py",
   "mimetype": "text/x-python",
   "name": "python",
   "nbconvert_exporter": "python",
   "pygments_lexer": "ipython3",
   "version": "3.7.4"
  }
 },
 "nbformat": 4,
 "nbformat_minor": 2
}
