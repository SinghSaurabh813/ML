{
 "cells": [
  {
   "cell_type": "code",
   "execution_count": 1,
   "metadata": {},
   "outputs": [
    {
     "name": "stdout",
     "output_type": "stream",
     "text": [
      "Enter value of a :1\n",
      "Enter value of b :2\n",
      "Enter value of c :3\n",
      "18.973665961010276\n"
     ]
    }
   ],
   "source": [
    "class myClass :\n",
    "    def __init__(self,a,b,c):\n",
    "        self.a=a\n",
    "        self.b=b\n",
    "        self.c=c\n",
    "    def myArea(self):\n",
    "        s=self.a + self.b + self.c\n",
    "        area = (s*(s-a)*(s-b)*(s-c)) ** 0.5\n",
    "        return area\n",
    "\n",
    "a = float(input(\"Enter value of a :\"))\n",
    "b = float(input(\"Enter value of b :\"))\n",
    "c = float(input(\"Enter value of c :\"))\n",
    "\n",
    "myobj = myClass(a,b,c)\n",
    "print(myobj.myArea())\n"
   ]
  },
  {
   "cell_type": "code",
   "execution_count": 2,
   "metadata": {},
   "outputs": [
    {
     "name": "stdout",
     "output_type": "stream",
     "text": [
      "How many Element wants to Add :3\n",
      "Enter List Element:abc\n",
      "Enter List Element:ab\n",
      "Enter List Element:abcd\n",
      "Enter value of n:2\n",
      "2\n"
     ]
    }
   ],
   "source": [
    "def filter_long_words(mylist,n):\n",
    "    c=0\n",
    "    for x in mylist:\n",
    "        if len(x) > n:\n",
    "            c+=1\n",
    "    return c  \n",
    "\n",
    "k = int(input(\"How many Element wants to Add :\"))\n",
    "mylist =[]\n",
    "while k > 0 :\n",
    "    x=input(\"Enter List Element:\")\n",
    "    mylist.append(x)\n",
    "    k-=1\n",
    "n = int(input(\"Enter value of n:\"))\n",
    "print(filter_long_words(mylist,n))"
   ]
  },
  {
   "cell_type": "code",
   "execution_count": 3,
   "metadata": {},
   "outputs": [
    {
     "name": "stdout",
     "output_type": "stream",
     "text": [
      "number of element in this list:3\n",
      "Enter list element :abc\n",
      "Enter list element :ahs\n",
      "Enter list element :s\n",
      "[3, 3, 1]\n"
     ]
    }
   ],
   "source": [
    "def resultFun(mylist):\n",
    "    newlist = []\n",
    "    for x in mylist:\n",
    "        newlist.append(len(x))\n",
    "    return newlist    \n",
    "n =int(input(\"number of element in this list:\"))\n",
    "mylist = []\n",
    "while n > 0:\n",
    "    x=input(\"Enter list element :\")\n",
    "    mylist.append(x)\n",
    "    n-=1\n",
    "print(resultFun(mylist))"
   ]
  },
  {
   "cell_type": "code",
   "execution_count": 4,
   "metadata": {},
   "outputs": [
    {
     "name": "stdout",
     "output_type": "stream",
     "text": [
      "Enter Test Cases :1\n",
      "Enter a Characetr:s\n",
      "False\n"
     ]
    }
   ],
   "source": [
    "def showResult(x):\n",
    "    if len(x) != 1 :\n",
    "        return False\n",
    "    if x == 'A' or x == 'E' or x == 'I' or x == 'O' or x == 'U' or x=='a' or x == 'e' or x=='o' or x =='u':\n",
    "        return True\n",
    "    else:\n",
    "        return False\n",
    "    \n",
    "n = int(input(\"Enter Test Cases :\"))\n",
    "while n > 0:\n",
    "    x = input(\"Enter a Characetr:\")\n",
    "    print(showResult(x))\n",
    "    n-=1"
   ]
  },
  {
   "cell_type": "code",
   "execution_count": null,
   "metadata": {},
   "outputs": [],
   "source": []
  }
 ],
 "metadata": {
  "kernelspec": {
   "display_name": "Python 3",
   "language": "python",
   "name": "python3"
  },
  "language_info": {
   "codemirror_mode": {
    "name": "ipython",
    "version": 3
   },
   "file_extension": ".py",
   "mimetype": "text/x-python",
   "name": "python",
   "nbconvert_exporter": "python",
   "pygments_lexer": "ipython3",
   "version": "3.7.4"
  }
 },
 "nbformat": 4,
 "nbformat_minor": 2
}
