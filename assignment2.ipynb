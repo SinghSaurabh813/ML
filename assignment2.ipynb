{
 "cells": [
  {
   "cell_type": "code",
   "execution_count": 1,
   "metadata": {},
   "outputs": [
    {
     "name": "stdout",
     "output_type": "stream",
     "text": [
      "How many numbers in List:3\n",
      "Enter a number:1\n",
      "Enter a number:23\n",
      "Enter a number:3\n",
      "27\n"
     ]
    }
   ],
   "source": [
    "#Question 2.1\n",
    "def Sum(x,y):\n",
    "    return x+y\n",
    "def ReduceSum(Sum,mylist):\n",
    "    a = mylist[0]\n",
    "    for b in mylist[1:]:\n",
    "        a = Sum(a,b)\n",
    "    return a    \n",
    "        \n",
    "n = int(input(\"How many numbers in List:\"))\n",
    "mylist = []\n",
    "while n > 0:\n",
    "    x = int(input(\"Enter a number:\"))\n",
    "    mylist.append(x)\n",
    "    n-=1\n",
    "print(ReduceSum(Sum,mylist))    "
   ]
  },
  {
   "cell_type": "code",
   "execution_count": 2,
   "metadata": {},
   "outputs": [
    {
     "name": "stdout",
     "output_type": "stream",
     "text": [
      "How many numbers in List:3\n",
      "Enter a number:1\n",
      "Enter a number:2\n",
      "Enter a number:3\n",
      "[1, 2, 3]\n"
     ]
    }
   ],
   "source": [
    "def Positive(x):\n",
    "    if x > 0:\n",
    "        return True\n",
    "    else:\n",
    "        return False\n",
    "\n",
    "def Filter(Postive,mylist):\n",
    "    newlist = []\n",
    "    for x in mylist:\n",
    "        if Positive(x):\n",
    "            newlist.append(x)\n",
    "    return newlist        \n",
    "    \n",
    "n = int(input(\"How many numbers in List:\"))\n",
    "mylist = []\n",
    "while n > 0:\n",
    "    x = int(input(\"Enter a number:\"))\n",
    "    mylist.append(x)\n",
    "    n-=1\n",
    "print(Filter(Positive,mylist))    "
   ]
  },
  {
   "cell_type": "code",
   "execution_count": 3,
   "metadata": {},
   "outputs": [
    {
     "name": "stdout",
     "output_type": "stream",
     "text": [
      "\n",
      "Enter a String:\n",
      "abc\n",
      "abc can represent as -> ['a', 'b', 'c']\n",
      "\n",
      "For second Case :\n",
      "\n",
      "\n",
      "Enter how many elments in a list :3\n",
      "Enter list element :a\n",
      "Enter list element :s\n",
      "Enter list element :v\n",
      "['a', 'aa', 'aaa', 'aaaa', 's', 'ss', 'sss', 'ssss', 'v', 'vv', 'vvv', 'vvvv']\n",
      "\n",
      "For 3rd Case:\n",
      "\n",
      "['a', 's', 'v', 'aa', 'ss', 'vv', 'aaa', 'sss', 'vvv', 'aaaa', 'ssss', 'vvvv']\n",
      "For 4th Case :\n",
      "Enter how many elments in a list :3\n",
      "Enter list element :1\n",
      "Enter list element :2\n",
      "Enter list element :3\n",
      "[[1], [2], [3], [2], [3], [4], [3], [4], [5]]\n",
      "\n",
      "For 5th case:\n",
      "\n",
      "[[1, 2, 3, 4, 5], [2, 3, 4, 5, 6], [3, 4, 5, 6, 7]]\n",
      "\n",
      "For 6th Case:\n",
      "\n",
      "Enter how many elments in a list 6:3\n",
      "Enter list element :2\n",
      "Enter list element :3\n",
      "Enter list element :4\n",
      "[(2, 2), (3, 2), (4, 2), (2, 3), (3, 3), (4, 3), (2, 4), (3, 4), (4, 4)]\n"
     ]
    }
   ],
   "source": [
    "mystring  = input(\"\\nEnter a String:\\n\")\n",
    "mylist = [ x for x in mystring ]\n",
    "print(mystring,mylist,sep=\" can represent as -> \")\n",
    "\n",
    "print(\"\\nFor second Case :\\n\")\n",
    "n = int(input(\"\\nEnter how many elments in a list :\"))\n",
    "mylist1 = []\n",
    "while n > 0 :\n",
    "    x = input(\"Enter list element :\")\n",
    "    mylist1.append(x)\n",
    "    n-=1\n",
    "mylist2 = []    \n",
    "for a in mylist1 : \n",
    "    for b in range(1,5):\n",
    "        mylist2.append(a*b)\n",
    "print(mylist2)        \n",
    "\n",
    "print(\"\\nFor 3rd Case:\\n\")\n",
    "mylist3 = [] \n",
    "for b in range(1,5) : \n",
    "    for a in mylist1:\n",
    "        mylist3.append(a*b)\n",
    "print(mylist3) \n",
    "\n",
    "print(\"For 4th Case :\")\n",
    "n = int(input(\"Enter how many elments in a list :\"))\n",
    "mylist4 = []\n",
    "while n > 0 :\n",
    "    x = int(input(\"Enter list element :\"))\n",
    "    mylist4.append(x)\n",
    "    n-=1\n",
    "mylist5 = []    \n",
    "for i in mylist4:\n",
    "    for  j in range(0,3) :\n",
    "        k = [i+j]\n",
    "        mylist5.append(k)\n",
    "print(mylist5)        \n",
    "\n",
    "print(\"\\nFor 5th case:\\n\")\n",
    "mylist6 = []\n",
    "for i in mylist4:\n",
    "    k =[]\n",
    "    for  j in range(0,5):\n",
    "        k.append(i+j)\n",
    "    mylist6.append(k)\n",
    "print(mylist6)   \n",
    "\n",
    "print(\"\\nFor 6th Case:\\n\")\n",
    "n = int(input(\"Enter how many elments in a list 6:\"))\n",
    "mylist7 = []\n",
    "while n > 0 :\n",
    "    x = int(input(\"Enter list element :\"))\n",
    "    mylist7.append(x)\n",
    "    n-=1\n",
    "mylist8 = []    \n",
    "for i in mylist7:\n",
    "    for  j in mylist7 :\n",
    "        tup =(j,i)\n",
    "        mylist8.append(tup)\n",
    "print(mylist8,sep=\",\")  "
   ]
  },
  {
   "cell_type": "code",
   "execution_count": 4,
   "metadata": {},
   "outputs": [
    {
     "name": "stdout",
     "output_type": "stream",
     "text": [
      "Enter number of String:3\n",
      "Enter String:as\n",
      "Enter String:abc\n",
      "Enter String:a\n",
      "abc\n"
     ]
    }
   ],
   "source": [
    "def longestWord(mylist):\n",
    "    c=0\n",
    "    s=\"\"\n",
    "    for x in mylist:\n",
    "        if len(x) > c :\n",
    "            s=x\n",
    "            c=len(x)\n",
    "    return s        \n",
    "            \n",
    "n = int(input(\"Enter number of String:\"))\n",
    "mylist = []\n",
    "while n > 0 :\n",
    "    x =input(\"Enter String:\")\n",
    "    mylist.append(x)\n",
    "    n-=1\n",
    "print(longestWord(mylist))    "
   ]
  },
  {
   "cell_type": "code",
   "execution_count": 5,
   "metadata": {},
   "outputs": [
    {
     "name": "stdout",
     "output_type": "stream",
     "text": [
      "Enter value of a :1\n",
      "Enter value of b :2\n",
      "Enter value of c :3\n",
      "18.973665961010276\n"
     ]
    }
   ],
   "source": [
    "class myClass :\n",
    "    def __init__(self,a,b,c):\n",
    "        self.a=a\n",
    "        self.b=b\n",
    "        self.c=c\n",
    "    def myArea(self):\n",
    "        s=self.a + self.b + self.c\n",
    "        area = (s*(s-a)*(s-b)*(s-c)) ** 0.5\n",
    "        return area\n",
    "\n",
    "a = float(input(\"Enter value of a :\"))\n",
    "b = float(input(\"Enter value of b :\"))\n",
    "c = float(input(\"Enter value of c :\"))\n",
    "\n",
    "myobj = myClass(a,b,c)\n",
    "print(myobj.myArea())\n",
    "    "
   ]
  },
  {
   "cell_type": "code",
   "execution_count": 6,
   "metadata": {},
   "outputs": [
    {
     "name": "stdout",
     "output_type": "stream",
     "text": [
      "How many Element wants to Add :3\n",
      "Enter List Element:abd\n",
      "Enter List Element:s\n",
      "Enter List Element:a\n",
      "Enter value of n:2\n",
      "1\n"
     ]
    }
   ],
   "source": [
    "def filter_long_words(mylist,n):\n",
    "    c=0\n",
    "    for x in mylist:\n",
    "        if len(x) > n:\n",
    "            c+=1\n",
    "    return c  \n",
    "\n",
    "k = int(input(\"How many Element wants to Add :\"))\n",
    "mylist =[]\n",
    "while k > 0 :\n",
    "    x=input(\"Enter List Element:\")\n",
    "    mylist.append(x)\n",
    "    k-=1\n",
    "n = int(input(\"Enter value of n:\"))\n",
    "print(filter_long_words(mylist,n))"
   ]
  },
  {
   "cell_type": "code",
   "execution_count": 7,
   "metadata": {},
   "outputs": [
    {
     "name": "stdout",
     "output_type": "stream",
     "text": [
      "number of element in this list:2\n",
      "Enter list element :a\n",
      "Enter list element :b\n",
      "[1, 1]\n"
     ]
    }
   ],
   "source": [
    "def resultFun(mylist):\n",
    "    newlist = []\n",
    "    for x in mylist:\n",
    "        newlist.append(len(x))\n",
    "    return newlist    \n",
    "n =int(input(\"number of element in this list:\"))\n",
    "mylist = []\n",
    "while n > 0:\n",
    "    x=input(\"Enter list element :\")\n",
    "    mylist.append(x)\n",
    "    n-=1\n",
    "print(resultFun(mylist))"
   ]
  },
  {
   "cell_type": "code",
   "execution_count": 8,
   "metadata": {},
   "outputs": [
    {
     "name": "stdout",
     "output_type": "stream",
     "text": [
      "Enter Test Cases :1\n",
      "Enter a Characetr:s\n",
      "False\n"
     ]
    }
   ],
   "source": [
    "def showResult(x):\n",
    "    if len(x) != 1 :\n",
    "        return False\n",
    "    if x == 'A' or x == 'E' or x == 'I' or x == 'O' or x == 'U' or x=='a' or x == 'e' or x=='o' or x =='u':\n",
    "        return True\n",
    "    else:\n",
    "        return False\n",
    "    \n",
    "n = int(input(\"Enter Test Cases :\"))\n",
    "while n > 0:\n",
    "    x = input(\"Enter a Characetr:\")\n",
    "    print(showResult(x))\n",
    "    n-=1"
   ]
  },
  {
   "cell_type": "code",
   "execution_count": null,
   "metadata": {},
   "outputs": [],
   "source": []
  }
 ],
 "metadata": {
  "kernelspec": {
   "display_name": "Python 3",
   "language": "python",
   "name": "python3"
  },
  "language_info": {
   "codemirror_mode": {
    "name": "ipython",
    "version": 3
   },
   "file_extension": ".py",
   "mimetype": "text/x-python",
   "name": "python",
   "nbconvert_exporter": "python",
   "pygments_lexer": "ipython3",
   "version": "3.7.4"
  }
 },
 "nbformat": 4,
 "nbformat_minor": 2
}
