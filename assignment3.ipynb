{
 "cells": [
  {
   "cell_type": "code",
   "execution_count": 1,
   "metadata": {},
   "outputs": [
    {
     "name": "stdout",
     "output_type": "stream",
     "text": [
      "You Can't divide a number by Zero...\n"
     ]
    }
   ],
   "source": [
    "def myFun():\n",
    "    return 5/0\n",
    "\n",
    "try:\n",
    "    myFun()\n",
    "except ZeroDivisionError as ze:\n",
    "    print(\"You Can't divide a number by Zero...\")\n",
    "except:\n",
    "    print(\"Other Exception Found !!\")\n",
    "    "
   ]
  },
  {
   "cell_type": "code",
   "execution_count": 2,
   "metadata": {},
   "outputs": [
    {
     "name": "stdout",
     "output_type": "stream",
     "text": [
      "Enter Test Cases:1\n",
      "How many subjecs are there:2\n",
      "Enter Subject:Americans\n",
      "Enter Subject:Indians\n",
      "How many verbs are there:2\n",
      "Enter Verb:play\n",
      "Enter Verb:watch\n",
      "How many objects are there:2\n",
      "Enter Object:cricket\n",
      "Enter Object:baseball\n",
      "\n",
      "\n",
      "Americans play cricket\n",
      "Americans play baseball\n",
      "Americans watch cricket\n",
      "Americans watch baseball\n",
      "Indians play cricket\n",
      "Indians play baseball\n",
      "Indians watch cricket\n",
      "Indians watch baseball\n"
     ]
    }
   ],
   "source": [
    "n = int(input(\"Enter Test Cases:\"))\n",
    "subjects = []\n",
    "verbs = []\n",
    "objects = []\n",
    "while n > 0:\n",
    "    n-=1\n",
    "    a = int(input(\"How many subjecs are there:\"))\n",
    "    while a > 0 :\n",
    "        x = input(\"Enter Subject:\")\n",
    "        subjects.append(x)\n",
    "        a-=1\n",
    "    a = int(input(\"How many verbs are there:\"))\n",
    "    while a > 0 :\n",
    "        x = input(\"Enter Verb:\")\n",
    "        verbs.append(x)\n",
    "        a-=1\n",
    "    a = int(input(\"How many objects are there:\"))\n",
    "    while a > 0 :\n",
    "        x = input(\"Enter Object:\")\n",
    "        objects.append(x)\n",
    "        a-=1\n",
    "    print(\"\\n\")    \n",
    "    str = \"\"\n",
    "    for x in subjects :\n",
    "        for y in verbs :\n",
    "            for z in objects :\n",
    "                str = x + \" \"+ y +\" \"+ z\n",
    "                print(str)\n",
    "            "
   ]
  },
  {
   "cell_type": "code",
   "execution_count": 3,
   "metadata": {},
   "outputs": [
    {
     "name": "stdout",
     "output_type": "stream",
     "text": [
      "How many numbers in the list:4\n",
      "Enter a number:1\n",
      "Enter a number:2\n",
      "Enter a number:3\n",
      "Enter a number:4\n",
      "\n",
      "Enter value of N:4\n",
      "[[1, 1, 1, 1], [8, 4, 2, 1], [27, 9, 3, 1], [64, 16, 4, 1]]\n"
     ]
    }
   ],
   "source": [
    "def myFun(mylist,N) :\n",
    "    mylist1 = []\n",
    "    for i in range(len(mylist)) :\n",
    "        mylist2 = []\n",
    "        for j in range(N):\n",
    "            x = mylist[i] ** (N-j-1)\n",
    "            mylist2.append(x)\n",
    "        mylist1.append(mylist2)\n",
    "    return mylist1    \n",
    "        \n",
    "k = int(input(\"How many numbers in the list:\"))\n",
    "mylist = []\n",
    "while k > 0 :\n",
    "    x = int(input(\"Enter a number:\"))\n",
    "    mylist.append(x)\n",
    "    k-=1\n",
    "N = int(input(\"\\nEnter value of N:\"))\n",
    "print(myFun(mylist,N))"
   ]
  },
  {
   "cell_type": "code",
   "execution_count": null,
   "metadata": {},
   "outputs": [],
   "source": []
  }
 ],
 "metadata": {
  "kernelspec": {
   "display_name": "Python 3",
   "language": "python",
   "name": "python3"
  },
  "language_info": {
   "codemirror_mode": {
    "name": "ipython",
    "version": 3
   },
   "file_extension": ".py",
   "mimetype": "text/x-python",
   "name": "python",
   "nbconvert_exporter": "python",
   "pygments_lexer": "ipython3",
   "version": "3.7.4"
  }
 },
 "nbformat": 4,
 "nbformat_minor": 2
}
